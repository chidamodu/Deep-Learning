{
  "nbformat": 4,
  "nbformat_minor": 0,
  "metadata": {
    "accelerator": "GPU",
    "colab": {
      "name": "Exercise4-Answer.ipynb",
      "provenance": []
    },
    "kernelspec": {
      "display_name": "Python 3",
      "name": "python3"
    }
  },
  "cells": [
    {
      "cell_type": "code",
      "metadata": {
        "id": "zX4Kg8DUTKWO"
      },
      "source": [
        "#@title Licensed under the Apache License, Version 2.0 (the \"License\");\n",
        "# you may not use this file except in compliance with the License.\n",
        "# You may obtain a copy of the License at\n",
        "#\n",
        "# https://www.apache.org/licenses/LICENSE-2.0\n",
        "#\n",
        "# Unless required by applicable law or agreed to in writing, software\n",
        "# distributed under the License is distributed on an \"AS IS\" BASIS,\n",
        "# WITHOUT WARRANTIES OR CONDITIONS OF ANY KIND, either express or implied.\n",
        "# See the License for the specific language governing permissions and\n",
        "# limitations under the License."
      ],
      "execution_count": null,
      "outputs": []
    },
    {
      "cell_type": "code",
      "source": [
        "import matplotlib.pyplot as plt\n",
        "%matplotlib inline"
      ],
      "metadata": {
        "id": "n4esgr8Slc5g"
      },
      "execution_count": 15,
      "outputs": []
    },
    {
      "cell_type": "code",
      "metadata": {
        "id": "3NFuMFYXtwsT",
        "colab": {
          "base_uri": "https://localhost:8080/"
        },
        "outputId": "ddd78ce8-96d8-4db8-975c-f2f2aaa3a3e0"
      },
      "source": [
        "import tensorflow as tf\n",
        "import os\n",
        "import zipfile\n",
        "\n",
        "DESIRED_ACCURACY = 0.999\n",
        "\n",
        "!wget --no-check-certificate \\\n",
        "    \"https://storage.googleapis.com/learning-datasets/happy-or-sad.zip\" \\\n",
        "    -O \"/tmp/happy-or-sad.zip\"\n",
        "\n",
        "zip_ref = zipfile.ZipFile(\"/tmp/happy-or-sad.zip\", 'r')\n",
        "zip_ref.extractall(\"/tmp/h-or-s\")\n",
        "zip_ref.close()\n",
        "\n",
        "class myCallback(tf.keras.callbacks.Callback):\n",
        "  def on_epoch_end(self, epoch, logs={}):\n",
        "    if(logs.get('accuracy')>DESIRED_ACCURACY):\n",
        "      print(\"\\nReached 99.9% accuracy so cancelling training!\")\n",
        "      self.model.stop_training = True\n",
        "\n",
        "callbacks = myCallback()\n"
      ],
      "execution_count": 1,
      "outputs": [
        {
          "output_type": "stream",
          "name": "stdout",
          "text": [
            "--2023-07-12 23:23:30--  https://storage.googleapis.com/learning-datasets/happy-or-sad.zip\n",
            "Resolving storage.googleapis.com (storage.googleapis.com)... 142.251.12.128, 172.217.194.128, 74.125.200.128, ...\n",
            "Connecting to storage.googleapis.com (storage.googleapis.com)|142.251.12.128|:443... connected.\n",
            "HTTP request sent, awaiting response... 200 OK\n",
            "Length: 2670333 (2.5M) [application/zip]\n",
            "Saving to: ‘/tmp/happy-or-sad.zip’\n",
            "\n",
            "/tmp/happy-or-sad.z 100%[===================>]   2.55M  2.17MB/s    in 1.2s    \n",
            "\n",
            "2023-07-12 23:23:32 (2.17 MB/s) - ‘/tmp/happy-or-sad.zip’ saved [2670333/2670333]\n",
            "\n"
          ]
        }
      ]
    },
    {
      "cell_type": "code",
      "metadata": {
        "id": "eUcNTpra1FK0"
      },
      "source": [
        "model = tf.keras.models.Sequential([\n",
        "    tf.keras.layers.Conv2D(16, (3,3), activation='relu', input_shape=(150, 150, 3)),\n",
        "    tf.keras.layers.MaxPooling2D(2, 2),\n",
        "    tf.keras.layers.Conv2D(32, (3,3), activation='relu'),\n",
        "    tf.keras.layers.MaxPooling2D(2,2),\n",
        "    tf.keras.layers.Conv2D(32, (3,3), activation='relu'),\n",
        "    tf.keras.layers.MaxPooling2D(2,2),\n",
        "    tf.keras.layers.Flatten(),\n",
        "    tf.keras.layers.Dense(512, activation='relu'),\n",
        "    tf.keras.layers.Dense(1, activation='sigmoid')\n",
        "])\n",
        "\n",
        "from tensorflow.keras.optimizers import RMSprop\n",
        "\n",
        "model.compile(loss='binary_crossentropy',\n",
        "              optimizer=RMSprop(learning_rate=0.001),\n",
        "              metrics=['accuracy'])"
      ],
      "execution_count": 3,
      "outputs": []
    },
    {
      "cell_type": "code",
      "metadata": {
        "id": "sSaPPUe_z_OU",
        "colab": {
          "base_uri": "https://localhost:8080/"
        },
        "outputId": "7b6d82e6-9813-421b-d302-b61a33091733"
      },
      "source": [
        "from tensorflow.keras.preprocessing.image import ImageDataGenerator\n",
        "\n",
        "train_datagen = ImageDataGenerator(rescale=1/255)\n",
        "\n",
        "train_generator = train_datagen.flow_from_directory(\n",
        "        \"/tmp/h-or-s\",\n",
        "        target_size=(150, 150),\n",
        "        batch_size=10,\n",
        "        class_mode='binary')\n",
        "\n",
        "# Expected output: 'Found 80 images belonging to 2 classes'"
      ],
      "execution_count": 4,
      "outputs": [
        {
          "output_type": "stream",
          "name": "stdout",
          "text": [
            "Found 80 images belonging to 2 classes.\n"
          ]
        }
      ]
    },
    {
      "cell_type": "code",
      "metadata": {
        "id": "0imravDn0Ajz",
        "colab": {
          "base_uri": "https://localhost:8080/"
        },
        "outputId": "c6869490-a4d5-4d81-cc43-bc960329cffc"
      },
      "source": [
        "history = model.fit(\n",
        "      train_generator,\n",
        "      steps_per_epoch=8,\n",
        "      epochs=15,\n",
        "      verbose=1,\n",
        "      callbacks=[callbacks])"
      ],
      "execution_count": 5,
      "outputs": [
        {
          "output_type": "stream",
          "name": "stdout",
          "text": [
            "Epoch 1/15\n",
            "8/8 [==============================] - 11s 19ms/step - loss: 1.4282 - accuracy: 0.6250\n",
            "Epoch 2/15\n",
            "8/8 [==============================] - 0s 19ms/step - loss: 0.5510 - accuracy: 0.7125\n",
            "Epoch 3/15\n",
            "8/8 [==============================] - 0s 19ms/step - loss: 0.3331 - accuracy: 0.9000\n",
            "Epoch 4/15\n",
            "8/8 [==============================] - 0s 20ms/step - loss: 0.1995 - accuracy: 0.9250\n",
            "Epoch 5/15\n",
            "8/8 [==============================] - 0s 19ms/step - loss: 0.2023 - accuracy: 0.8875\n",
            "Epoch 6/15\n",
            "8/8 [==============================] - 0s 18ms/step - loss: 0.1245 - accuracy: 0.9500\n",
            "Epoch 7/15\n",
            "8/8 [==============================] - 0s 21ms/step - loss: 0.2018 - accuracy: 0.9125\n",
            "Epoch 8/15\n",
            "8/8 [==============================] - 0s 20ms/step - loss: 0.1002 - accuracy: 0.9750\n",
            "Epoch 9/15\n",
            "8/8 [==============================] - 0s 19ms/step - loss: 0.0602 - accuracy: 0.9875\n",
            "Epoch 10/15\n",
            "8/8 [==============================] - 0s 18ms/step - loss: 0.0787 - accuracy: 0.9750\n",
            "Epoch 11/15\n",
            "8/8 [==============================] - 0s 19ms/step - loss: 0.1570 - accuracy: 0.9125\n",
            "Epoch 12/15\n",
            "8/8 [==============================] - 0s 22ms/step - loss: 0.0510 - accuracy: 0.9875\n",
            "Epoch 13/15\n",
            "8/8 [==============================] - 0s 19ms/step - loss: 0.0391 - accuracy: 0.9875\n",
            "Epoch 14/15\n",
            "7/8 [=========================>....] - ETA: 0s - loss: 0.0110 - accuracy: 1.0000\n",
            "Reached 99.9% accuracy so cancelling training!\n",
            "8/8 [==============================] - 0s 19ms/step - loss: 0.0106 - accuracy: 1.0000\n"
          ]
        }
      ]
    },
    {
      "cell_type": "code",
      "source": [
        "d = history.history"
      ],
      "metadata": {
        "id": "IuP6XFTQkmHK"
      },
      "execution_count": 12,
      "outputs": []
    },
    {
      "cell_type": "code",
      "source": [
        "d"
      ],
      "metadata": {
        "colab": {
          "base_uri": "https://localhost:8080/"
        },
        "id": "gjkvDByokvT_",
        "outputId": "a39143e7-baa4-4b53-ea1d-dd25ddc6baa9"
      },
      "execution_count": 13,
      "outputs": [
        {
          "output_type": "execute_result",
          "data": {
            "text/plain": [
              "{'loss': [1.428179144859314,\n",
              "  0.5510109066963196,\n",
              "  0.3330835700035095,\n",
              "  0.19951960444450378,\n",
              "  0.20225973427295685,\n",
              "  0.12452147901058197,\n",
              "  0.20181450247764587,\n",
              "  0.10019918531179428,\n",
              "  0.06024008244276047,\n",
              "  0.0787234753370285,\n",
              "  0.15704229474067688,\n",
              "  0.05099276825785637,\n",
              "  0.039083290845155716,\n",
              "  0.010551095008850098],\n",
              " 'accuracy': [0.625,\n",
              "  0.7124999761581421,\n",
              "  0.8999999761581421,\n",
              "  0.925000011920929,\n",
              "  0.887499988079071,\n",
              "  0.949999988079071,\n",
              "  0.9125000238418579,\n",
              "  0.9750000238418579,\n",
              "  0.987500011920929,\n",
              "  0.9750000238418579,\n",
              "  0.9125000238418579,\n",
              "  0.987500011920929,\n",
              "  0.987500011920929,\n",
              "  1.0]}"
            ]
          },
          "metadata": {},
          "execution_count": 13
        }
      ]
    },
    {
      "cell_type": "code",
      "source": [
        "\n",
        "plt.plot(d['accuracy'])\n",
        "plt.plot(d['loss'])\n",
        "plt.title('Model performance')\n",
        "plt.xlabel('Epoch')\n",
        "plt.ylabel('Performance_accuracy/loss')\n",
        "plt.legend(['accuracy', 'loss'], loc=\"upper left\")\n",
        "\n",
        "\n",
        "\n"
      ],
      "metadata": {
        "colab": {
          "base_uri": "https://localhost:8080/",
          "height": 490
        },
        "id": "hpcnPPARlbI1",
        "outputId": "e783f3df-572d-4166-fdea-263325c9901a"
      },
      "execution_count": 17,
      "outputs": [
        {
          "output_type": "execute_result",
          "data": {
            "text/plain": [
              "<matplotlib.legend.Legend at 0x7ce9a07bf1f0>"
            ]
          },
          "metadata": {},
          "execution_count": 17
        },
        {
          "output_type": "display_data",
          "data": {
            "text/plain": [
              "<Figure size 640x480 with 1 Axes>"
            ],
            "image/png": "[encoded data removed]"
          },
          "metadata": {}
        }
      ]
    }
  ]
}