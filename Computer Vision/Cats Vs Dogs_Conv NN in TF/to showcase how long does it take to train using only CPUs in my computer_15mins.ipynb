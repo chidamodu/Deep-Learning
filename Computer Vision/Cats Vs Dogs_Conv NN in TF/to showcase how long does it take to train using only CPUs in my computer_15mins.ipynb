{
 "cells": [
  {
   "cell_type": "code",
   "execution_count": 7,
   "id": "9481b2d7-913e-4bf0-a585-0d6e7231e89c",
   "metadata": {},
   "outputs": [],
   "source": [
    "\n",
    "import os\n",
    "import numpy as np\n",
    "import tensorflow as tf\n",
    "from tensorflow import keras\n",
    "from shutil import copyfile\n",
    "import zipfile\n",
    "import random\n",
    "import shutil\n",
    "from tensorflow.keras.preprocessing.image import ImageDataGenerator\n",
    "import keras_tuner as kt\n",
    "import matplotlib.pyplot as plt\n",
    "%matplotlib inline\n"
   ]
  },
  {
   "cell_type": "code",
   "execution_count": 17,
   "id": "ddeb7e6c-49e0-430f-94f6-13b174396ed3",
   "metadata": {},
   "outputs": [],
   "source": [
    "# import sys\n",
    "# from PIL import Image"
   ]
  },
  {
   "cell_type": "code",
   "execution_count": 2,
   "id": "175f2df9-3c14-46cd-851d-0d938a6e89aa",
   "metadata": {},
   "outputs": [
    {
     "name": "stdout",
     "output_type": "stream",
     "text": [
      "2.16.1\n"
     ]
    }
   ],
   "source": [
    "\n",
    "import tensorflow as tf\n",
    "print(tf.__version__)\n"
   ]
  },
  {
   "cell_type": "code",
   "execution_count": 3,
   "id": "c1e2deae-c627-43a3-a9c4-b0689fbeee84",
   "metadata": {},
   "outputs": [
    {
     "name": "stdout",
     "output_type": "stream",
     "text": [
      "Available physical devices: [PhysicalDevice(name='/physical_device:CPU:0', device_type='CPU')]\n",
      "GPU is not available.\n"
     ]
    }
   ],
   "source": [
    "\n",
    "# List all available physical devices\n",
    "physical_devices = tf.config.list_physical_devices()\n",
    "print(\"Available physical devices:\", physical_devices)\n",
    "\n",
    "# Specifically check for GPU availability\n",
    "gpus = tf.config.list_physical_devices('GPU')\n",
    "if len(gpus) > 0:\n",
    "    print(f\"GPU is available: {gpus}\")\n",
    "else:\n",
    "    print(\"GPU is not available.\")\n"
   ]
  },
  {
   "cell_type": "code",
   "execution_count": 4,
   "id": "d4540d45-5deb-4c31-89ea-a7991a2e9948",
   "metadata": {},
   "outputs": [
    {
     "data": {
      "text/plain": [
       "'/Users/chidam_sp'"
      ]
     },
     "execution_count": 4,
     "metadata": {},
     "output_type": "execute_result"
    }
   ],
   "source": [
    "\n",
    "os.getcwd()\n"
   ]
  },
  {
   "cell_type": "code",
   "execution_count": 14,
   "id": "ee13f8f9-717c-46ec-b2af-b5bf70d7f529",
   "metadata": {},
   "outputs": [
    {
     "ename": "NameError",
     "evalue": "name 'history' is not defined",
     "output_type": "error",
     "traceback": [
      "\u001b[0;31m---------------------------------------------------------------------------\u001b[0m",
      "\u001b[0;31mNameError\u001b[0m                                 Traceback (most recent call last)",
      "Cell \u001b[0;32mIn[14], line 1\u001b[0m\n\u001b[0;32m----> 1\u001b[0m \u001b[38;5;28;01mdel\u001b[39;00m \u001b[43mhistory\u001b[49m, model_training, train_val_generators, model_build\n",
      "\u001b[0;31mNameError\u001b[0m: name 'history' is not defined"
     ]
    }
   ],
   "source": [
    "del history, model_training, train_val_generators, model_build"
   ]
  },
  {
   "cell_type": "code",
   "execution_count": 8,
   "id": "3fdc716e-3cb6-46ad-ba7f-a5c0d0bd6c94",
   "metadata": {},
   "outputs": [],
   "source": [
    "\n",
    "def train_val_generators(TRAINING_DIR, TESTING_DIR):\n",
    "    train_datagen = ImageDataGenerator(rescale=1./255, \n",
    "                                       rotation_range = 40,\n",
    "                                     width_shift_range = 0.2,\n",
    "                                     height_shift_range = 0.2,\n",
    "                                     shear_range = 0.2,\n",
    "                                     zoom_range = 0.2,\n",
    "                                     horizontal_flip = True,\n",
    "                                     fill_mode='nearest')\n",
    "\n",
    "\n",
    "    train_generator = train_datagen.flow_from_directory(directory=TRAINING_DIR, \n",
    "                                                        batch_size=128, class_mode='binary', target_size=(150, 150))\n",
    "    # save_to_dir=/tmp/img-data-gen-outputs\n",
    "    \n",
    "    validation_datagen = ImageDataGenerator(rescale=1./255)\n",
    "    \n",
    "    validation_generator = validation_datagen.flow_from_directory(directory=TESTING_DIR, \n",
    "                                                                  batch_size=32, class_mode='binary', target_size=(150, 150))\n",
    "    \n",
    "    return train_generator, validation_generator\n",
    "\n",
    "def model_build():\n",
    "    # Define the model\n",
    "    model = tf.keras.models.Sequential([\n",
    "        tf.keras.layers.Conv2D(32, (3, 3), activation='relu', input_shape=(150, 150, 3)),\n",
    "        tf.keras.layers.MaxPooling2D(2, 2),\n",
    "        tf.keras.layers.Conv2D(32, (3, 3), activation='relu'),\n",
    "        tf.keras.layers.MaxPooling2D(2, 2),\n",
    "        tf.keras.layers.Conv2D(64, (3, 3), activation='relu'),\n",
    "        tf.keras.layers.MaxPooling2D(2, 2),\n",
    "        tf.keras.layers.Conv2D(64, (3, 3), activation='relu'),\n",
    "        tf.keras.layers.MaxPooling2D(2, 2),\n",
    "        tf.keras.layers.Conv2D(64, (3, 3), activation='relu'),\n",
    "        tf.keras.layers.MaxPooling2D(2, 2),\n",
    "        # tf.keras.layers.Dropout(0.2),\n",
    "        tf.keras.layers.Flatten(),\n",
    "        tf.keras.layers.Dense(512, activation='relu'),\n",
    "        tf.keras.layers.Dense(1, activation='sigmoid')\n",
    "    ])\n",
    "    # Compile the model\n",
    "    model.compile(optimizer=tf.keras.optimizers.Adam(learning_rate=0.0002),\n",
    "                  loss='binary_crossentropy',\n",
    "                  metrics=['accuracy'])\n",
    "    \n",
    "    return model\n",
    "\n",
    "class myCallback(tf.keras.callbacks.Callback):\n",
    "    def on_epoch_end(self, epoch, logs={}):\n",
    "        if(logs.get('accuracy') > 0.95):\n",
    "            print(\"\\nReached 95% accuracy so cancelling training!\")\n",
    "            self.model.stop_training = True\n",
    "\n",
    "#How to set up a CV loop for a computer vision problem?\n",
    "\n",
    "def model_training(EPOCHS, model_checkpoint_path):\n",
    "    import datetime\n",
    "    start_time = datetime.datetime.now()\n",
    "    train_generator, validation_generator = train_val_generators(TRAINING_DIR, TESTING_DIR)\n",
    "    callbacks = myCallback()\n",
    "    model = model_build()\n",
    "    # early_stopping = tf.keras.callbacks.EarlyStopping(monitor='loss',\n",
    "    #                                             patience=patience,\n",
    "    #                                             mode='min')\n",
    "    model_checkpoint = tf.keras.callbacks.ModelCheckpoint(model_checkpoint_path, monitor='loss', mode='min', save_best_only=True)\n",
    "    history = model.fit(train_generator, epochs=EPOCHS, validation_data=validation_generator, verbose=1, callbacks=[callbacks, model_checkpoint])\n",
    "    end_time = datetime.datetime.now()\n",
    "    print(\"Training time: \", end_time - start_time)\n",
    "    return history\n"
   ]
  },
  {
   "cell_type": "code",
   "execution_count": 9,
   "id": "46e1e75d-3925-4a98-a8db-8d93b471ac5e",
   "metadata": {},
   "outputs": [
    {
     "name": "stdout",
     "output_type": "stream",
     "text": [
      "Found 22498 images belonging to 2 classes.\n",
      "Found 2500 images belonging to 2 classes.\n",
      "Epoch 1/10\n"
     ]
    },
    {
     "name": "stderr",
     "output_type": "stream",
     "text": [
      "/Library/Frameworks/Python.framework/Versions/3.12/lib/python3.12/site-packages/keras/src/trainers/data_adapters/py_dataset_adapter.py:120: UserWarning: Your `PyDataset` class should call `super().__init__(**kwargs)` in its constructor. `**kwargs` can include `workers`, `use_multiprocessing`, `max_queue_size`. Do not pass these arguments to `fit()`, as they will be ignored.\n",
      "  self._warn_if_super_not_called()\n"
     ]
    },
    {
     "name": "stdout",
     "output_type": "stream",
     "text": [
      "\u001b[1m101/176\u001b[0m \u001b[32m━━━━━━━━━━━\u001b[0m\u001b[37m━━━━━━━━━\u001b[0m \u001b[1m40s\u001b[0m 544ms/step - accuracy: 0.5208 - loss: 0.6905"
     ]
    },
    {
     "name": "stderr",
     "output_type": "stream",
     "text": [
      "/Library/Frameworks/Python.framework/Versions/3.12/lib/python3.12/site-packages/PIL/TiffImagePlugin.py:890: UserWarning: Truncated File Read\n",
      "  warnings.warn(str(msg))\n"
     ]
    },
    {
     "name": "stdout",
     "output_type": "stream",
     "text": [
      "\u001b[1m176/176\u001b[0m \u001b[32m━━━━━━━━━━━━━━━━━━━━\u001b[0m\u001b[37m\u001b[0m \u001b[1m94s\u001b[0m 514ms/step - accuracy: 0.5351 - loss: 0.6859 - val_accuracy: 0.6220 - val_loss: 0.6551\n",
      "Epoch 2/10\n",
      "\u001b[1m176/176\u001b[0m \u001b[32m━━━━━━━━━━━━━━━━━━━━\u001b[0m\u001b[37m\u001b[0m \u001b[1m80s\u001b[0m 437ms/step - accuracy: 0.6317 - loss: 0.6429 - val_accuracy: 0.6788 - val_loss: 0.6048\n",
      "Epoch 3/10\n",
      "\u001b[1m176/176\u001b[0m \u001b[32m━━━━━━━━━━━━━━━━━━━━\u001b[0m\u001b[37m\u001b[0m \u001b[1m78s\u001b[0m 431ms/step - accuracy: 0.6618 - loss: 0.6180 - val_accuracy: 0.6536 - val_loss: 0.6059\n",
      "Epoch 4/10\n",
      "\u001b[1m176/176\u001b[0m \u001b[32m━━━━━━━━━━━━━━━━━━━━\u001b[0m\u001b[37m\u001b[0m \u001b[1m97s\u001b[0m 537ms/step - accuracy: 0.6738 - loss: 0.6013 - val_accuracy: 0.6172 - val_loss: 0.6343\n",
      "Epoch 5/10\n",
      "\u001b[1m176/176\u001b[0m \u001b[32m━━━━━━━━━━━━━━━━━━━━\u001b[0m\u001b[37m\u001b[0m \u001b[1m89s\u001b[0m 487ms/step - accuracy: 0.6899 - loss: 0.5832 - val_accuracy: 0.7732 - val_loss: 0.4874\n",
      "Epoch 6/10\n",
      "\u001b[1m176/176\u001b[0m \u001b[32m━━━━━━━━━━━━━━━━━━━━\u001b[0m\u001b[37m\u001b[0m \u001b[1m89s\u001b[0m 494ms/step - accuracy: 0.7286 - loss: 0.5408 - val_accuracy: 0.7632 - val_loss: 0.4995\n",
      "Epoch 7/10\n",
      "\u001b[1m176/176\u001b[0m \u001b[32m━━━━━━━━━━━━━━━━━━━━\u001b[0m\u001b[37m\u001b[0m \u001b[1m94s\u001b[0m 519ms/step - accuracy: 0.7369 - loss: 0.5286 - val_accuracy: 0.7924 - val_loss: 0.4539\n",
      "Epoch 8/10\n",
      "\u001b[1m176/176\u001b[0m \u001b[32m━━━━━━━━━━━━━━━━━━━━\u001b[0m\u001b[37m\u001b[0m \u001b[1m89s\u001b[0m 493ms/step - accuracy: 0.7497 - loss: 0.5027 - val_accuracy: 0.7956 - val_loss: 0.4472\n",
      "Epoch 9/10\n",
      "\u001b[1m176/176\u001b[0m \u001b[32m━━━━━━━━━━━━━━━━━━━━\u001b[0m\u001b[37m\u001b[0m \u001b[1m99s\u001b[0m 545ms/step - accuracy: 0.7597 - loss: 0.4962 - val_accuracy: 0.7824 - val_loss: 0.4490\n",
      "Epoch 10/10\n",
      "\u001b[1m176/176\u001b[0m \u001b[32m━━━━━━━━━━━━━━━━━━━━\u001b[0m\u001b[37m\u001b[0m \u001b[1m110s\u001b[0m 608ms/step - accuracy: 0.7699 - loss: 0.4868 - val_accuracy: 0.7700 - val_loss: 0.4827\n",
      "Training time:  0:15:20.565512\n"
     ]
    }
   ],
   "source": [
    "\n",
    "TRAINING_DIR = '/Users/chidam_sp/Desktop/train_valid_split/training/'\n",
    "TESTING_DIR = '/Users/chidam_sp/Desktop/train_valid_split/testing/'\n",
    "\n",
    "model_checkpoint_path = '/Users/chidam_sp/Desktop/cats_vs_dogs/conv2d_stacked_model.keras'\n",
    "history = model_training(10, model_checkpoint_path)\n"
   ]
  },
  {
   "cell_type": "code",
   "execution_count": 10,
   "id": "e1512bf7-6b4b-422f-8912-9784bc164f5c",
   "metadata": {},
   "outputs": [],
   "source": [
    "\n",
    "def plot_learning_curve_metric(history, lower_limit, upper_limit):\n",
    "    plt.plot(history['accuracy'], label='training_accuracy')\n",
    "    plt.plot(history['val_accuracy'], label='validation_accuracy')\n",
    "    plt.xlabel('Epoch')\n",
    "    plt.ylabel('accuracy')\n",
    "    plt.ylim([lower_limit, upper_limit])\n",
    "    plt.legend(loc='lower right')\n",
    "\n",
    "def plot_learning_curve_loss(history, lower_limit, upper_limit):\n",
    "    plt.plot(history['loss'], label='training_loss')\n",
    "    plt.plot(history['val_loss'], label='validation_loss')\n",
    "    plt.xlabel('Epoch')\n",
    "    plt.ylabel('loss')\n",
    "    plt.ylim([lower_limit, upper_limit])\n",
    "    plt.legend(loc='upper right')\n",
    "    plt.show()\n"
   ]
  },
  {
   "cell_type": "code",
   "execution_count": 12,
   "id": "e07b2445-8e6e-42e7-b72a-8f72ab7eedb1",
   "metadata": {},
   "outputs": [
    {
     "data": {
      "image/png": "[encoded data removed]",
      "text/plain": [
       "<Figure size 640x480 with 1 Axes>"
      ]
     },
     "metadata": {},
     "output_type": "display_data"
    }
   ],
   "source": [
    "\n",
    "plot_learning_curve_metric(history.history, 0.2, 1)\n"
   ]
  }
 ],
 "metadata": {
  "kernelspec": {
   "display_name": "Python 3 (ipykernel)",
   "language": "python",
   "name": "python3"
  },
  "language_info": {
   "codemirror_mode": {
    "name": "ipython",
    "version": 3
   },
   "file_extension": ".py",
   "mimetype": "text/x-python",
   "name": "python",
   "nbconvert_exporter": "python",
   "pygments_lexer": "ipython3",
   "version": "3.12.0"
  }
 },
 "nbformat": 4,
 "nbformat_minor": 5
}
