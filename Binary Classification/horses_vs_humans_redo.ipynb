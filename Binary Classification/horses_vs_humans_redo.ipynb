{
 "cells": [
  {
   "cell_type": "code",
   "id": "initial_id",
   "metadata": {
    "collapsed": true,
    "ExecuteTime": {
     "end_time": "2024-05-03T18:15:20.431247Z",
     "start_time": "2024-05-03T18:15:17.259158Z"
    }
   },
   "source": [
    "\n",
    "import os\n",
    "import numpy as np\n",
    "import tensorflow as tf\n",
    "from tensorflow import keras\n",
    "from shutil import copyfile\n",
    "import zipfile\n",
    "import random\n",
    "import shutil\n",
    "from tensorflow.keras.preprocessing.image import ImageDataGenerator\n",
    "from tensorflow.keras import layers\n",
    "import matplotlib.pyplot as plt\n",
    "%matplotlib inline\n"
   ],
   "outputs": [],
   "execution_count": 2
  },
  {
   "metadata": {
    "ExecuteTime": {
     "end_time": "2024-05-03T18:15:24.327118Z",
     "start_time": "2024-05-03T18:15:24.323757Z"
    }
   },
   "cell_type": "code",
   "source": [
    "\n",
    "TRAINING_DIR = \"/Users/chidam_sp/PycharmProjects/pythonProject2/Computer vision, Time series, and NLP_TF certification/horses_vs_humans/training/\"\n",
    "VALIDATION_DIR = \"/Users/chidam_sp/PycharmProjects/pythonProject2/Computer vision, Time series, and NLP_TF certification/horses_vs_humans/validation/\"\n",
    "\n",
    "TRAINING_HORSE_DIR = os.path.join(TRAINING_DIR, \"horses/\")\n",
    "VALIDATION_HORSE_DIR = os.path.join(VALIDATION_DIR, \"horses/\")\n",
    "\n",
    "TRAINING_HUMAN_DIR = os.path.join(TRAINING_DIR, \"humans/\")\n",
    "VALIDATION_HUMAN_DIR = os.path.join(VALIDATION_DIR, \"humans/\")\n"
   ],
   "id": "d4e4e717dd94c4a6",
   "outputs": [],
   "execution_count": 3
  },
  {
   "metadata": {
    "ExecuteTime": {
     "end_time": "2024-05-03T18:15:25.465189Z",
     "start_time": "2024-05-03T18:15:25.460473Z"
    }
   },
   "cell_type": "code",
   "source": [
    "\n",
    "print(f\"There are {len(os.listdir(TRAINING_HORSE_DIR))} images of horses for training\")\n",
    "print(f\"There are {len(os.listdir(TRAINING_HUMAN_DIR))} images of humans for training\")\n",
    "print(f\"There are {len(os.listdir(VALIDATION_HORSE_DIR))} images of horses for validation\")\n",
    "print(f\"There are {len(os.listdir(VALIDATION_HUMAN_DIR))} images of humans for validation\")\n"
   ],
   "id": "2617cd358b4c3cee",
   "outputs": [
    {
     "name": "stdout",
     "output_type": "stream",
     "text": [
      "There are 500 images of horses for training\n",
      "There are 527 images of humans for training\n",
      "There are 128 images of horses for validation\n",
      "There are 128 images of humans for validation\n"
     ]
    }
   ],
   "execution_count": 4
  },
  {
   "metadata": {
    "ExecuteTime": {
     "end_time": "2024-05-02T21:59:41.934217Z",
     "start_time": "2024-05-02T21:59:41.930496Z"
    }
   },
   "cell_type": "code",
   "source": [
    "\n",
    "1027/64\n"
   ],
   "id": "133c18294a70a0f0",
   "outputs": [
    {
     "data": {
      "text/plain": [
       "16.046875"
      ]
     },
     "execution_count": 23,
     "metadata": {},
     "output_type": "execute_result"
    }
   ],
   "execution_count": 23
  },
  {
   "metadata": {
    "ExecuteTime": {
     "end_time": "2024-05-02T22:43:26.430707Z",
     "start_time": "2024-05-02T22:43:26.427595Z"
    }
   },
   "cell_type": "code",
   "source": [
    "\n",
    "256/64\n"
   ],
   "id": "ff208e3f9ff9d45d",
   "outputs": [
    {
     "data": {
      "text/plain": [
       "4.0"
      ]
     },
     "execution_count": 167,
     "metadata": {},
     "output_type": "execute_result"
    }
   ],
   "execution_count": 167
  },
  {
   "metadata": {
    "ExecuteTime": {
     "end_time": "2024-05-03T18:03:37.100129Z",
     "start_time": "2024-05-03T18:03:37.085426Z"
    }
   },
   "cell_type": "code",
   "source": [
    "\n",
    "del history, model_training, train_val_generators, model_build\n"
   ],
   "id": "860253291afb9ecb",
   "outputs": [
    {
     "ename": "NameError",
     "evalue": "name 'history' is not defined",
     "output_type": "error",
     "traceback": [
      "\u001B[0;31m---------------------------------------------------------------------------\u001B[0m",
      "\u001B[0;31mNameError\u001B[0m                                 Traceback (most recent call last)",
      "Cell \u001B[0;32mIn[311], line 1\u001B[0m\n\u001B[0;32m----> 1\u001B[0m \u001B[38;5;28;01mdel\u001B[39;00m history, model_training, train_val_generators, model_build\n",
      "\u001B[0;31mNameError\u001B[0m: name 'history' is not defined"
     ]
    }
   ],
   "execution_count": 311
  },
  {
   "metadata": {
    "ExecuteTime": {
     "end_time": "2024-05-03T18:15:27.797792Z",
     "start_time": "2024-05-03T18:15:27.788039Z"
    }
   },
   "cell_type": "code",
   "source": [
    "\n",
    "\n",
    "def crop_center(image):\n",
    "    # Assuming image is a 3D tensor of shape (height, width, channels)\n",
    "    # and we want to crop to a square shape.\n",
    "    original_shape = tf.shape(image)\n",
    "    side_length = tf.reduce_mean([original_shape[0], original_shape[1]])\n",
    "    \n",
    "    # Compute offset for the crop to be centered\n",
    "    offset_height = (original_shape[0] - side_length) // 3\n",
    "    offset_width = (original_shape[1] - side_length) // 3\n",
    "    \n",
    "    # Perform the crop\n",
    "    cropped_image = tf.image.crop_to_bounding_box(\n",
    "        image,\n",
    "        offset_height=offset_height,\n",
    "        offset_width=offset_width,\n",
    "        target_height=side_length,\n",
    "        target_width=side_length\n",
    "    )\n",
    "    return cropped_image\n",
    "\n",
    "def train_val_generators(TRAINING_DIR, VALIDATION_DIR):\n",
    "    train_datagen = ImageDataGenerator(rescale=1./255,\n",
    "                                       rotation_range = 45,\n",
    "                                     # width_shift_range = 0.2,\n",
    "                                     # height_shift_range = 0.2,\n",
    "                                     shear_range = 0.2,\n",
    "                                     horizontal_flip = True,\n",
    "                                    brightness_range=[0.2, 0.3],\n",
    "                                    channel_shift_range=5,\n",
    "                                     fill_mode='nearest',\n",
    "                                    preprocessing_function=crop_center,\n",
    "                                       zoom_range = 0.3)\n",
    "    \n",
    "    \n",
    "        \n",
    "    train_generator = train_datagen.flow_from_directory(directory=TRAINING_DIR, \n",
    "                                                        batch_size=64, class_mode='binary', target_size=(150, 150))\n",
    "    \n",
    "    \n",
    "    validation_datagen = ImageDataGenerator(rescale=1./255)\n",
    "    \n",
    "    validation_generator = validation_datagen.flow_from_directory(directory=VALIDATION_DIR, \n",
    "                                                                  batch_size=16, class_mode='binary', target_size=(150, 150))\n",
    "    \n",
    "    \n",
    "    # train_crops = crop_generator(train_generator, CROP_LENGTH)\n",
    "    # valid_crops = crop_generator(validation_generator, CROP_LENGTH)\n",
    "    # \n",
    "    return train_generator, validation_generator\n",
    "\n",
    "def model_build():\n",
    "#     data_augmentation = tf.keras.Sequential([\n",
    "#         layers.RandomFlip(\"horizontal_and_vertical\"), layers.RandomRotation(0.2),\n",
    "# ])\n",
    "    # Define the model\n",
    "    model = tf.keras.models.Sequential([\n",
    "        tf.keras.layers.Conv2D(32, (3, 3), activation='relu', input_shape=(150, 150, 3)),\n",
    "        tf.keras.layers.MaxPooling2D(2, 2),\n",
    "        tf.keras.layers.Conv2D(64, (3, 3), activation='relu'),\n",
    "        tf.keras.layers.MaxPooling2D(2, 2),\n",
    "        tf.keras.layers.Conv2D(64, (3, 3), activation='relu'),    \n",
    "        tf.keras.layers.MaxPooling2D(2, 2), \n",
    "        tf.keras.layers.Conv2D(128, (3, 3), activation='relu'),\n",
    "        tf.keras.layers.MaxPooling2D(2, 2),\n",
    "        \n",
    "        tf.keras.layers.Flatten(),\n",
    "        tf.keras.layers.Dense(512, activation='relu'),\n",
    "        tf.keras.layers.Dense(1, activation='sigmoid')\n",
    "    ])\n",
    "    # Compile the model\n",
    "    model.compile(optimizer=tf.keras.optimizers.RMSprop(learning_rate=0.00001, momentum=0.4),\n",
    "                  loss='binary_crossentropy',\n",
    "                  metrics=['accuracy'])\n",
    "    \n",
    "    return model\n",
    "\n",
    "class myCallback(tf.keras.callbacks.Callback):\n",
    "    def on_epoch_end(self, epoch, logs={}):\n",
    "        if(logs.get('accuracy') > 0.95):\n",
    "            print(\"\\nReached 95% accuracy so cancelling training!\")\n",
    "            self.model.stop_training = True\n",
    "\n",
    "#How to set up a CV loop for a computer vision problem?\n",
    "\n",
    "def model_training(EPOCHS, model_checkpoint_path):\n",
    "    import datetime\n",
    "    start_time = datetime.datetime.now()\n",
    "    model_checkpoint = tf.keras.callbacks.ModelCheckpoint(model_checkpoint_path, monitor='val_loss', mode='min', save_best_only=True)\n",
    "    train_generator, validation_generator = train_val_generators(TRAINING_DIR, VALIDATION_DIR)\n",
    "    callbacks = myCallback()\n",
    "    model = model_build()\n",
    "    history = model.fit(train_generator, epochs=EPOCHS, validation_data=validation_generator, verbose=1, callbacks=[callbacks, model_checkpoint])\n",
    "    end_time = datetime.datetime.now()\n",
    "    print(\"Training time: \", end_time - start_time)\n",
    "    return history\n"
   ],
   "id": "bb483c7cb8de2b77",
   "outputs": [],
   "execution_count": 5
  },
  {
   "metadata": {
    "jupyter": {
     "is_executing": true
    },
    "ExecuteTime": {
     "start_time": "2024-05-03T18:15:28.686090Z"
    }
   },
   "cell_type": "code",
   "source": [
    "\n",
    "TRAINING_DIR = \"/Users/chidam_sp/PycharmProjects/pythonProject2/Computer vision, Time series, and NLP_TF certification/horses_vs_humans/training/\"\n",
    "VALIDATION_DIR = \"/Users/chidam_sp/PycharmProjects/pythonProject2/Computer vision, Time series, and NLP_TF certification/horses_vs_humans/validation/\"\n",
    "model_checkpoint_path = '/Users/chidam_sp/PycharmProjects/pythonProject2/Computer vision, Time series, and NLP_TF certification/horses_vs_humans/stacked_cov2d_model_2nd_attempt.h5'\n",
    "history = model_training(10, model_checkpoint_path)\n"
   ],
   "id": "15488e761aab6213",
   "outputs": [
    {
     "name": "stdout",
     "output_type": "stream",
     "text": [
      "Found 1027 images belonging to 2 classes.\n",
      "Found 256 images belonging to 2 classes.\n"
     ]
    },
    {
     "name": "stderr",
     "output_type": "stream",
     "text": [
      "2024-05-03 11:15:28.733233: I metal_plugin/src/device/metal_device.cc:1154] Metal device set to: Apple M2 Pro\n",
      "2024-05-03 11:15:28.733260: I metal_plugin/src/device/metal_device.cc:296] systemMemory: 16.00 GB\n",
      "2024-05-03 11:15:28.733271: I metal_plugin/src/device/metal_device.cc:313] maxCacheSize: 5.33 GB\n",
      "2024-05-03 11:15:28.733494: I tensorflow/core/common_runtime/pluggable_device/pluggable_device_factory.cc:306] Could not identify NUMA node of platform GPU ID 0, defaulting to 0. Your kernel may not have been built with NUMA support.\n",
      "2024-05-03 11:15:28.733511: I tensorflow/core/common_runtime/pluggable_device/pluggable_device_factory.cc:272] Created TensorFlow device (/job:localhost/replica:0/task:0/device:GPU:0 with 0 MB memory) -> physical PluggableDevice (device: 0, name: METAL, pci bus id: <undefined>)\n",
      "WARNING:absl:At this time, the v2.11+ optimizer `tf.keras.optimizers.RMSprop` runs slowly on M1/M2 Macs, please use the legacy Keras optimizer instead, located at `tf.keras.optimizers.legacy.RMSprop`.\n"
     ]
    },
    {
     "name": "stdout",
     "output_type": "stream",
     "text": [
      "Epoch 1/10\n"
     ]
    }
   ],
   "execution_count": null
  },
  {
   "metadata": {
    "ExecuteTime": {
     "end_time": "2024-05-02T23:22:16.358184Z",
     "start_time": "2024-05-02T23:22:16.352544Z"
    }
   },
   "cell_type": "code",
   "source": [
    "\n",
    "def plot_learning_curve_metric(history, lower_limit, upper_limit):\n",
    "    plt.plot(history['accuracy'], label='training_accuracy')\n",
    "    plt.plot(history['val_accuracy'], label='validation_accuracy')\n",
    "    plt.xlabel('Epoch')\n",
    "    plt.ylabel('accuracy')\n",
    "    plt.ylim([lower_limit, upper_limit])\n",
    "    plt.legend(loc='lower right')\n",
    "\n",
    "def plot_learning_curve_loss(history, lower_limit, upper_limit):\n",
    "    plt.plot(history['loss'], label='training_loss')\n",
    "    plt.plot(history['val_loss'], label='validation_loss')\n",
    "    plt.xlabel('Epoch')\n",
    "    plt.ylabel('loss')\n",
    "    plt.ylim([lower_limit, upper_limit])\n",
    "    plt.legend(loc='upper right')\n",
    "    plt.show()\n"
   ],
   "id": "5628387dc227096d",
   "outputs": [],
   "execution_count": 260
  },
  {
   "metadata": {
    "ExecuteTime": {
     "end_time": "2024-05-02T23:22:23.104387Z",
     "start_time": "2024-05-02T23:22:23.029295Z"
    }
   },
   "cell_type": "code",
   "source": [
    "\n",
    "plot_learning_curve_loss(history.history, 0, 1.5)\n"
   ],
   "id": "1d4c141880344617",
   "outputs": [
    {
     "data": {
      "text/plain": [
       "<Figure size 640x480 with 1 Axes>"
      ],
      "image/png": "[encoded data removed]"
     },
     "metadata": {},
     "output_type": "display_data"
    }
   ],
   "execution_count": 262
  },
  {
   "metadata": {
    "ExecuteTime": {
     "end_time": "2024-05-02T23:22:25.585537Z",
     "start_time": "2024-05-02T23:22:25.500683Z"
    }
   },
   "cell_type": "code",
   "source": [
    "\n",
    "plot_learning_curve_metric(history.history, 0.4, 1)\n"
   ],
   "id": "5d8bde6a9bb9d766",
   "outputs": [
    {
     "data": {
      "text/plain": [
       "<Figure size 640x480 with 1 Axes>"
      ],
      "image/png": "[encoded data removed]"
     },
     "metadata": {},
     "output_type": "display_data"
    }
   ],
   "execution_count": 263
  },
  {
   "metadata": {},
   "cell_type": "code",
   "outputs": [],
   "execution_count": null,
   "source": [
    "def random_crop(img, random_crop_size):\n",
    "    # Note: image_data_format is 'channel_last'\n",
    "    assert img.shape[2] == 3\n",
    "    height, width = img.shape[0], img.shape[1]\n",
    "    dy, dx = random_crop_size\n",
    "    x = np.random.randint(0, width - dx + 1)\n",
    "    y = np.random.randint(0, height - dy + 1)\n",
    "    return img[y:(y+dy), x:(x+dx), :]\n",
    "\n",
    "\n",
    "def crop_generator(batches, crop_length):\n",
    "    \"\"\"Take as input a Keras ImageGen (Iterator) and generate random\n",
    "    crops from the image batches generated by the original iterator.\n",
    "    \"\"\"\n",
    "    while True:\n",
    "        batch_x, batch_y = next(batches)\n",
    "        batch_crops = np.zeros((batch_x.shape[0], crop_length, crop_length, 3))\n",
    "        for i in range(batch_x.shape[0]):\n",
    "            batch_crops[i] = random_crop(batch_x[i], (crop_length, crop_length))\n",
    "        yield (batch_crops, batch_y)\n",
    "        "
   ],
   "id": "10e95883885d6135"
  }
 ],
 "metadata": {
  "kernelspec": {
   "display_name": "Python 3",
   "language": "python",
   "name": "python3"
  },
  "language_info": {
   "codemirror_mode": {
    "name": "ipython",
    "version": 2
   },
   "file_extension": ".py",
   "mimetype": "text/x-python",
   "name": "python",
   "nbconvert_exporter": "python",
   "pygments_lexer": "ipython2",
   "version": "2.7.6"
  }
 },
 "nbformat": 4,
 "nbformat_minor": 5
}
